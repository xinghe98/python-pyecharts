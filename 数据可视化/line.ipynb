{
 "cells": [
  {
   "cell_type": "code",
   "execution_count": 2,
   "metadata": {
    "tags": []
   },
   "outputs": [
    {
     "name": "stdout",
     "output_type": "stream",
     "text": [
      "    时间  订单数量  社群数量\n",
      "0  22日    20    15\n",
      "1  23日    14    40\n",
      "2  24日    33   120\n",
      "3  25日    22    11\n"
     ]
    },
    {
     "data": {
      "text/plain": "<pyecharts.render.display.HTML at 0xc087e80>",
      "text/html": "\n<script>\n    require.config({\n        paths: {\n            'echarts':'https://assets.pyecharts.org/assets/echarts.min'\n        }\n    });\n</script>\n\n        <div id=\"fc59f59e2a2d4db2bc4b66d8e27a7a7b\" style=\"width:900px; height:500px;\"></div>\n\n<script>\n        require(['echarts'], function(echarts) {\n                var chart_fc59f59e2a2d4db2bc4b66d8e27a7a7b = echarts.init(\n                    document.getElementById('fc59f59e2a2d4db2bc4b66d8e27a7a7b'), 'white', {renderer: 'canvas'});\n                var option_fc59f59e2a2d4db2bc4b66d8e27a7a7b = {\n    \"animation\": true,\n    \"animationThreshold\": 2000,\n    \"animationDuration\": 1000,\n    \"animationEasing\": \"cubicOut\",\n    \"animationDelay\": 0,\n    \"animationDurationUpdate\": 300,\n    \"animationEasingUpdate\": \"cubicOut\",\n    \"animationDelayUpdate\": 0,\n    \"color\": [\n        \"#c23531\",\n        \"#2f4554\",\n        \"#61a0a8\",\n        \"#d48265\",\n        \"#749f83\",\n        \"#ca8622\",\n        \"#bda29a\",\n        \"#6e7074\",\n        \"#546570\",\n        \"#c4ccd3\",\n        \"#f05b72\",\n        \"#ef5b9c\",\n        \"#f47920\",\n        \"#905a3d\",\n        \"#fab27b\",\n        \"#2a5caa\",\n        \"#444693\",\n        \"#726930\",\n        \"#b2d235\",\n        \"#6d8346\",\n        \"#ac6767\",\n        \"#1d953f\",\n        \"#6950a1\",\n        \"#918597\"\n    ],\n    \"series\": [\n        {\n            \"type\": \"line\",\n            \"name\": \"\\u8ba2\\u5355\\u6570\\u91cf\",\n            \"connectNulls\": false,\n            \"symbolSize\": 4,\n            \"showSymbol\": true,\n            \"smooth\": false,\n            \"step\": false,\n            \"data\": [\n                [\n                    \"22\\u65e5\",\n                    20\n                ],\n                [\n                    \"23\\u65e5\",\n                    14\n                ],\n                [\n                    \"24\\u65e5\",\n                    33\n                ],\n                [\n                    \"25\\u65e5\",\n                    22\n                ]\n            ],\n            \"hoverAnimation\": true,\n            \"label\": {\n                \"show\": true,\n                \"position\": \"top\",\n                \"margin\": 25\n            },\n            \"lineStyle\": {\n                \"show\": true,\n                \"width\": 1,\n                \"opacity\": 1,\n                \"curveness\": 0,\n                \"type\": \"solid\"\n            },\n            \"areaStyle\": {\n                \"opacity\": 0\n            },\n            \"markPoint\": {\n                \"label\": {\n                    \"show\": true,\n                    \"position\": \"inside\",\n                    \"color\": \"#fff\",\n                    \"margin\": 8\n                },\n                \"data\": [\n                    {\n                        \"name\": \"\\u6700\\u5927\\u503c\",\n                        \"type\": \"max\"\n                    },\n                    {\n                        \"name\": \"\\u6700\\u5c0f\\u503c\",\n                        \"type\": \"min\"\n                    }\n                ]\n            },\n            \"markLine\": {\n                \"silent\": false,\n                \"precision\": 2,\n                \"label\": {\n                    \"show\": true,\n                    \"position\": \"top\",\n                    \"margin\": 8\n                },\n                \"data\": [\n                    {\n                        \"name\": \"\\u5e73\\u5747\\u503c\",\n                        \"type\": \"average\"\n                    }\n                ]\n            },\n            \"zlevel\": 0,\n            \"z\": 0\n        },\n        {\n            \"type\": \"line\",\n            \"name\": \"\\u793e\\u7fa4\\u6570\\u91cf\",\n            \"connectNulls\": false,\n            \"symbolSize\": 4,\n            \"showSymbol\": true,\n            \"smooth\": false,\n            \"step\": false,\n            \"data\": [\n                [\n                    \"22\\u65e5\",\n                    15\n                ],\n                [\n                    \"23\\u65e5\",\n                    40\n                ],\n                [\n                    \"24\\u65e5\",\n                    120\n                ],\n                [\n                    \"25\\u65e5\",\n                    11\n                ]\n            ],\n            \"hoverAnimation\": true,\n            \"label\": {\n                \"show\": true,\n                \"position\": \"top\",\n                \"margin\": 19\n            },\n            \"lineStyle\": {\n                \"show\": true,\n                \"width\": 1,\n                \"opacity\": 1,\n                \"curveness\": 0,\n                \"type\": \"solid\"\n            },\n            \"areaStyle\": {\n                \"opacity\": 0\n            },\n            \"markPoint\": {\n                \"label\": {\n                    \"show\": true,\n                    \"position\": \"inside\",\n                    \"color\": \"#fff\",\n                    \"margin\": 8\n                },\n                \"data\": [\n                    {\n                        \"name\": \"\\u5468\\u6700\\u4f4e\",\n                        \"x\": 1,\n                        \"y\": -1.5,\n                        \"value\": -2\n                    }\n                ]\n            },\n            \"markLine\": {\n                \"silent\": false,\n                \"precision\": 2,\n                \"label\": {\n                    \"show\": true,\n                    \"position\": \"top\",\n                    \"margin\": 8\n                },\n                \"data\": [\n                    {\n                        \"name\": \"\\u5e73\\u5747\\u503c\",\n                        \"type\": \"average\"\n                    },\n                    {\n                        \"xAxis\": \"90%\",\n                        \"yAxis\": \"max\",\n                        \"symbol\": \"none\"\n                    },\n                    {\n                        \"name\": \"\\u6700\\u9ad8\\u70b9\",\n                        \"type\": \"max\",\n                        \"symbol\": \"circle\"\n                    }\n                ]\n            },\n            \"zlevel\": 0,\n            \"z\": 0\n        }\n    ],\n    \"legend\": [\n        {\n            \"data\": [\n                \"\\u8ba2\\u5355\\u6570\\u91cf\",\n                \"\\u793e\\u7fa4\\u6570\\u91cf\"\n            ],\n            \"selected\": {\n                \"\\u8ba2\\u5355\\u6570\\u91cf\": true,\n                \"\\u793e\\u7fa4\\u6570\\u91cf\": true\n            },\n            \"show\": true,\n            \"padding\": 5,\n            \"itemGap\": 10,\n            \"itemWidth\": 25,\n            \"itemHeight\": 14\n        }\n    ],\n    \"tooltip\": {\n        \"show\": true,\n        \"trigger\": \"axis\",\n        \"triggerOn\": \"mousemove|click\",\n        \"axisPointer\": {\n            \"type\": \"line\"\n        },\n        \"textStyle\": {\n            \"fontSize\": 14\n        },\n        \"borderWidth\": 0\n    },\n    \"xAxis\": [\n        {\n            \"type\": \"category\",\n            \"show\": true,\n            \"scale\": false,\n            \"nameLocation\": \"end\",\n            \"nameGap\": 15,\n            \"gridIndex\": 0,\n            \"inverse\": false,\n            \"offset\": 0,\n            \"splitNumber\": 5,\n            \"boundaryGap\": false,\n            \"minInterval\": 0,\n            \"splitLine\": {\n                \"show\": false,\n                \"lineStyle\": {\n                    \"show\": true,\n                    \"width\": 1,\n                    \"opacity\": 1,\n                    \"curveness\": 0,\n                    \"type\": \"solid\"\n                }\n            },\n            \"data\": [\n                \"22\\u65e5\",\n                \"23\\u65e5\",\n                \"24\\u65e5\",\n                \"25\\u65e5\"\n            ]\n        }\n    ],\n    \"yAxis\": [\n        {\n            \"show\": true,\n            \"scale\": false,\n            \"nameLocation\": \"end\",\n            \"nameGap\": 15,\n            \"gridIndex\": 0,\n            \"inverse\": false,\n            \"offset\": 0,\n            \"splitNumber\": 5,\n            \"minInterval\": 0,\n            \"splitLine\": {\n                \"show\": false,\n                \"lineStyle\": {\n                    \"show\": true,\n                    \"width\": 1,\n                    \"opacity\": 1,\n                    \"curveness\": 0,\n                    \"type\": \"solid\"\n                }\n            }\n        }\n    ],\n    \"title\": [\n        {\n            \"text\": \"\\u9996\\u5468\\u6570\\u636e\\u7edf\\u8ba1\",\n            \"padding\": 5,\n            \"itemGap\": 10\n        }\n    ]\n};\n                chart_fc59f59e2a2d4db2bc4b66d8e27a7a7b.setOption(option_fc59f59e2a2d4db2bc4b66d8e27a7a7b);\n        });\n    </script>\n"
     },
     "execution_count": 2,
     "metadata": {},
     "output_type": "execute_result"
    }
   ],
   "source": [
    "import pandas as pd\n",
    "import xlrd\n",
    "from pyecharts.charts import Line\n",
    "import pyecharts.options as opts\n",
    "df = pd.read_excel('./line.xlsx')\n",
    "date = df['时间'].tolist()\n",
    "order = df['订单数量'].tolist()\n",
    "conust = df['社群数量'].tolist()\n",
    "print(df)\n",
    "\n",
    "(\n",
    "    Line()\n",
    "    .add_xaxis(xaxis_data=date)\n",
    "    .add_yaxis(\n",
    "        series_name=\"订单数量\",\n",
    "        label_opts = opts.LabelOpts( margin=25),\n",
    "        y_axis=order,\n",
    "        markpoint_opts=opts.MarkPointOpts(\n",
    "            data=[\n",
    "                opts.MarkPointItem(type_=\"max\", name=\"最大值\"),\n",
    "                opts.MarkPointItem(type_=\"min\", name=\"最小值\"),\n",
    "            ]\n",
    "        ),\n",
    "        markline_opts=opts.MarkLineOpts(\n",
    "            data=[opts.MarkLineItem(type_=\"average\", name=\"平均值\")]\n",
    "        ),\n",
    "    )\n",
    "    .add_yaxis(\n",
    "        series_name=\"社群数量\",\n",
    "        label_opts = opts.LabelOpts(margin=19),\n",
    "        y_axis=conust,\n",
    "        markpoint_opts=opts.MarkPointOpts(\n",
    "            data=[opts.MarkPointItem(value=-2, name=\"周最低\", x=1, y=-1.5)]\n",
    "        ),\n",
    "        markline_opts=opts.MarkLineOpts(\n",
    "            data=[\n",
    "                opts.MarkLineItem(type_=\"average\", name=\"平均值\"),\n",
    "                opts.MarkLineItem(symbol=\"none\", x=\"90%\", y=\"max\"),\n",
    "                opts.MarkLineItem(symbol=\"circle\", type_=\"max\", name=\"最高点\"),\n",
    "            ]\n",
    "        ),\n",
    "    )\n",
    "    .set_global_opts(\n",
    "        title_opts=opts.TitleOpts(title=\"首周数据统计\"),\n",
    "        tooltip_opts=opts.TooltipOpts(trigger=\"axis\"),\n",
    "        xaxis_opts=opts.AxisOpts(type_=\"category\", boundary_gap=False),\n",
    "        \n",
    "    )\n",
    "    .render_notebook()\n",
    ")"
   ]
  }
 ],
 "metadata": {
  "kernelspec": {
   "display_name": "Python 3",
   "language": "python",
   "name": "python3"
  },
  "language_info": {
   "codemirror_mode": {
    "name": "ipython",
    "version": 3
   },
   "file_extension": ".py",
   "mimetype": "text/x-python",
   "name": "python",
   "nbconvert_exporter": "python",
   "pygments_lexer": "ipython3",
   "version": "3.8.5-final"
  }
 },
 "nbformat": 4,
 "nbformat_minor": 4
}