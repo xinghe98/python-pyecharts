{
 "cells": [
  {
   "cell_type": "code",
   "execution_count": 2,
   "metadata": {
    "tags": []
   },
   "outputs": [],
   "source": [
    "import pandas as pd\n",
    "import xlrd\n",
    "from pyecharts.charts import Funnel\n",
    "import pyecharts.options as opts\n",
    "\n",
    "df = pd.read_excel('./funnel.xlsx')\n",
    "data1=list(df['项目'].tolist())\n",
    "data2=list(df['数量'].tolist())\n"
   ]
  },
  {
   "cell_type": "code",
   "execution_count": 23,
   "metadata": {
    "scrolled": true
   },
   "outputs": [
    {
     "output_type": "execute_result",
     "data": {
      "text/plain": "<pyecharts.render.display.HTML at 0xd934148>",
      "text/html": "\n<script>\n    require.config({\n        paths: {\n            'echarts':'https://assets.pyecharts.org/assets/echarts.min'\n        }\n    });\n</script>\n\n        <div id=\"9aea113d2b414119b688081799b08024\" style=\"width:900px; height:500px;\"></div>\n\n<script>\n        require(['echarts'], function(echarts) {\n                var chart_9aea113d2b414119b688081799b08024 = echarts.init(\n                    document.getElementById('9aea113d2b414119b688081799b08024'), 'white', {renderer: 'canvas'});\n                var option_9aea113d2b414119b688081799b08024 = {\n    \"animation\": true,\n    \"animationThreshold\": 2000,\n    \"animationDuration\": 1000,\n    \"animationEasing\": \"cubicOut\",\n    \"animationDelay\": 0,\n    \"animationDurationUpdate\": 300,\n    \"animationEasingUpdate\": \"cubicOut\",\n    \"animationDelayUpdate\": 0,\n    \"color\": [\n        \"#28be32\",\n        \"#00FFFF\",\n        \"#FFA500\",\n        \"#836FFF\"\n    ],\n    \"series\": [\n        {\n            \"type\": \"funnel\",\n            \"name\": \"\\u5185\\u5bb9\",\n            \"data\": [\n                {\n                    \"name\": \"\\u6d4f\\u89c8\",\n                    \"value\": 232\n                },\n                {\n                    \"name\": \"\\u5165\\u7fa4\",\n                    \"value\": 52\n                },\n                {\n                    \"name\": \"\\u8d2d\\u4e70\",\n                    \"value\": 20\n                },\n                {\n                    \"name\": \"\\u7ebf\\u7d22\\u91cf\",\n                    \"value\": 10\n                }\n            ],\n            \"sort\": \"descending\",\n            \"gap\": 0,\n            \"label\": {\n                \"show\": true,\n                \"position\": \"top\",\n                \"margin\": 8,\n                \"formatter\": \"{b} {d}%\"\n            }\n        }\n    ],\n    \"legend\": [\n        {\n            \"data\": [\n                \"\\u7ebf\\u7d22\\u91cf\",\n                \"\\u8d2d\\u4e70\",\n                \"\\u6d4f\\u89c8\",\n                \"\\u5165\\u7fa4\"\n            ],\n            \"selected\": {\n                \"\\u6d4f\\u89c8\": true,\n                \"\\u5165\\u7fa4\": true,\n                \"\\u8d2d\\u4e70\": true,\n                \"\\u7ebf\\u7d22\\u91cf\": true\n            },\n            \"show\": true,\n            \"padding\": 5,\n            \"itemGap\": 10,\n            \"itemWidth\": 25,\n            \"itemHeight\": 14\n        }\n    ],\n    \"tooltip\": {\n        \"show\": true,\n        \"trigger\": \"item\",\n        \"triggerOn\": \"mousemove|click\",\n        \"axisPointer\": {\n            \"type\": \"line\"\n        },\n        \"textStyle\": {\n            \"fontSize\": 14\n        },\n        \"borderWidth\": 0\n    },\n    \"title\": [\n        {\n            \"text\": \"\\u8f6c\\u5316\\u6f0f\\u6597\\u6a21\\u578b(\\u603b\\u4f53\\u8f6c\\u5316\\u7387)\",\n            \"padding\": 5,\n            \"itemGap\": 10\n        }\n    ]\n};\n                chart_9aea113d2b414119b688081799b08024.setOption(option_9aea113d2b414119b688081799b08024);\n        });\n    </script>\n"
     },
     "metadata": {},
     "execution_count": 23
    }
   ],
   "source": [
    "data = list(zip(data1,data2))\n",
    "funnel = Funnel()\n",
    "funnel.set_colors(colors=['#28be32','#00FFFF','#FFA500','#836FFF'])\n",
    "funnel.add('内容',data,label_opts=opts.LabelOpts(formatter='{b} {d}%'))\n",
    "funnel.set_global_opts(title_opts=opts.TitleOpts(title=\"转化漏斗模型(总体转化率)\"))\n",
    "funnel.render_notebook()"
   ]
  },
  {
   "cell_type": "code",
   "execution_count": 34,
   "metadata": {},
   "outputs": [
    {
     "data": {
      "text/plain": [
       "<zip at 0x133515e8>"
      ]
     },
     "execution_count": 34,
     "metadata": {},
     "output_type": "execute_result"
    }
   ],
   "source": []
  }
 ],
 "metadata": {
  "kernelspec": {
   "display_name": "Python 3",
   "language": "python",
   "name": "python3"
  },
  "language_info": {
   "codemirror_mode": {
    "name": "ipython",
    "version": 3
   },
   "file_extension": ".py",
   "mimetype": "text/x-python",
   "name": "python",
   "nbconvert_exporter": "python",
   "pygments_lexer": "ipython3",
   "version": "3.8.5-final"
  }
 },
 "nbformat": 4,
 "nbformat_minor": 4
}