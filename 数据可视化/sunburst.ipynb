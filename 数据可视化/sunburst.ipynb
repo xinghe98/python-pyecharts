{
 "metadata": {
  "language_info": {
   "codemirror_mode": {
    "name": "ipython",
    "version": 3
   },
   "file_extension": ".py",
   "mimetype": "text/x-python",
   "name": "python",
   "nbconvert_exporter": "python",
   "pygments_lexer": "ipython3",
   "version": "3.8.5-final"
  },
  "orig_nbformat": 2,
  "kernelspec": {
   "name": "python3",
   "language": "python",
   "display_name": "Python 3"
  }
 },
 "nbformat": 4,
 "nbformat_minor": 2,
 "cells": [
  {
   "cell_type": "code",
   "execution_count": 7,
   "metadata": {
    "tags": []
   },
   "outputs": [
    {
     "name": "stdout",
     "output_type": "stream",
     "text": [
      "[('朋友圈', 7), ('公众号', 6), ('今日头条/抖音', 4), ('知乎', 3)]\n",
      "[('其他', 8), ('公众号', 3)]\n",
      "[('今日头条/抖音', 5), ('朋友圈', 1), ('知乎', 1)]\n",
      "[('其他', 4)]\n",
      "[('其他', 3), ('朋友圈', 2)]\n"
     ]
    },
    {
     "data": {
      "text/plain": "<pyecharts.render.display.HTML at 0xd2d24a8>",
      "text/html": "\n<script>\n    require.config({\n        paths: {\n            'echarts':'https://assets.pyecharts.org/assets/echarts.min'\n        }\n    });\n</script>\n\n        <div id=\"ec33acbac10f438a8ecea5f57c17aada\" style=\"width:1000px; height:600px;\"></div>\n\n<script>\n        require(['echarts'], function(echarts) {\n                var chart_ec33acbac10f438a8ecea5f57c17aada = echarts.init(\n                    document.getElementById('ec33acbac10f438a8ecea5f57c17aada'), 'white', {renderer: 'canvas'});\n                var option_ec33acbac10f438a8ecea5f57c17aada = {\n    \"animation\": true,\n    \"animationThreshold\": 2000,\n    \"animationDuration\": 1000,\n    \"animationEasing\": \"cubicOut\",\n    \"animationDelay\": 0,\n    \"animationDurationUpdate\": 300,\n    \"animationEasingUpdate\": \"cubicOut\",\n    \"animationDelayUpdate\": 0,\n    \"color\": [\n        \"#c23531\",\n        \"#2f4554\",\n        \"#61a0a8\",\n        \"#d48265\",\n        \"#749f83\",\n        \"#ca8622\",\n        \"#bda29a\",\n        \"#6e7074\",\n        \"#546570\",\n        \"#c4ccd3\",\n        \"#f05b72\",\n        \"#ef5b9c\",\n        \"#f47920\",\n        \"#905a3d\",\n        \"#fab27b\",\n        \"#2a5caa\",\n        \"#444693\",\n        \"#726930\",\n        \"#b2d235\",\n        \"#6d8346\",\n        \"#ac6767\",\n        \"#1d953f\",\n        \"#6950a1\",\n        \"#918597\"\n    ],\n    \"series\": [\n        {\n            \"type\": \"sunburst\",\n            \"data\": [\n                {\n                    \"name\": \"15\\u65e5\",\n                    \"children\": [\n                        {\n                            \"name\": \"\\u670b\\u53cb\\u5708\",\n                            \"value\": 7\n                        },\n                        {\n                            \"name\": \"\\u516c\\u4f17\\u53f7\",\n                            \"value\": 6\n                        },\n                        {\n                            \"name\": \"\\u4eca\\u65e5\\u5934\\u6761/\\u6296\\u97f3\",\n                            \"value\": 4\n                        },\n                        {\n                            \"name\": \"\\u77e5\\u4e4e\",\n                            \"value\": 3\n                        }\n                    ]\n                },\n                {\n                    \"name\": \"16\\u65e5\",\n                    \"children\": [\n                        {\n                            \"name\": \"\\u5176\\u4ed6\",\n                            \"value\": 8\n                        },\n                        {\n                            \"name\": \"\\u516c\\u4f17\\u53f7\",\n                            \"value\": 3\n                        }\n                    ]\n                },\n                {\n                    \"name\": \"17\\u65e5\",\n                    \"children\": [\n                        {\n                            \"name\": \"\\u4eca\\u65e5\\u5934\\u6761/\\u6296\\u97f3\",\n                            \"value\": 5\n                        },\n                        {\n                            \"name\": \"\\u670b\\u53cb\\u5708\",\n                            \"value\": 1\n                        },\n                        {\n                            \"name\": \"\\u77e5\\u4e4e\",\n                            \"value\": 1\n                        }\n                    ]\n                },\n                {\n                    \"name\": \"18\\u65e5\",\n                    \"children\": [\n                        {\n                            \"name\": \"\\u5176\\u4ed6\",\n                            \"value\": 4\n                        }\n                    ]\n                },\n                {\n                    \"name\": \"19\\u65e5\",\n                    \"children\": [\n                        {\n                            \"name\": \"\\u5176\\u4ed6\",\n                            \"value\": 3\n                        },\n                        {\n                            \"name\": \"\\u670b\\u53cb\\u5708\",\n                            \"value\": 2\n                        }\n                    ]\n                }\n            ],\n            \"center\": [\n                \"50%\",\n                \"50%\"\n            ],\n            \"radius\": [\n                0,\n                \"90%\"\n            ],\n            \"highlightPolicy\": \"ancestor\",\n            \"nodeClick\": \"rootToNode\",\n            \"sort\": \"null\",\n            \"levels\": [\n                {},\n                {\n                    \"r0\": \"15%\",\n                    \"r\": \"35%\",\n                    \"itemStyle\": {\n                        \"borderWidth\": 2\n                    },\n                    \"label\": {\n                        \"rotate\": \"tangential\"\n                    }\n                },\n                {\n                    \"r0\": \"35%\",\n                    \"r\": \"70%\",\n                    \"label\": {\n                        \"align\": \"right\"\n                    }\n                },\n                {\n                    \"r0\": \"70%\",\n                    \"r\": \"72%\",\n                    \"label\": {\n                        \"position\": \"outside\",\n                        \"padding\": 3,\n                        \"silent\": false\n                    },\n                    \"itemStyle\": {\n                        \"borderWidth\": 3\n                    }\n                }\n            ],\n            \"label\": {\n                \"show\": true,\n                \"position\": \"top\",\n                \"margin\": 8,\n                \"formatter\": \"{b}\"\n            },\n            \"rippleEffect\": {\n                \"show\": true,\n                \"brushType\": \"stroke\",\n                \"scale\": 2.5,\n                \"period\": 4\n            }\n        }\n    ],\n    \"legend\": [\n        {\n            \"data\": [],\n            \"selected\": {},\n            \"show\": true,\n            \"padding\": 5,\n            \"itemGap\": 10,\n            \"itemWidth\": 25,\n            \"itemHeight\": 14\n        }\n    ],\n    \"tooltip\": {\n        \"show\": true,\n        \"trigger\": \"item\",\n        \"triggerOn\": \"mousemove|click\",\n        \"axisPointer\": {\n            \"type\": \"line\"\n        },\n        \"textStyle\": {\n            \"fontSize\": 14\n        },\n        \"borderWidth\": 0\n    },\n    \"title\": [\n        {\n            \"text\": \"Sunburst-\\u57fa\\u672c\\u793a\\u4f8b\",\n            \"padding\": 5,\n            \"itemGap\": 10\n        }\n    ]\n};\n                chart_ec33acbac10f438a8ecea5f57c17aada.setOption(option_ec33acbac10f438a8ecea5f57c17aada);\n        });\n    </script>\n"
     },
     "execution_count": 7,
     "metadata": {},
     "output_type": "execute_result"
    }
   ],
   "source": [
    "import pandas as pd\n",
    "from pyecharts.charts import Sunburst\n",
    "from pyecharts import options as opts\n",
    "df = pd.read_csv('./randar.csv')\n",
    "df['提交时间']=pd.to_datetime(df['提交时间']).dt.day\n",
    "time = df.groupby('提交时间')\n",
    "child = []\n",
    "data = []\n",
    "for i in time.size().index.tolist():\n",
    "    k = time.get_group(i)[\"渠道\"].value_counts()\n",
    "    x = list(zip(k.index.tolist(),k.values.tolist()))\n",
    "    print(x)\n",
    "    for t in x:\n",
    "        name,value = t\n",
    "        dict = {\"name\":name,\"value\": value}\n",
    "        child.append(dict)\n",
    "    data_list = {'name':str(i)+\"日\",'children':child}\n",
    "    child = []\n",
    "    data.append(data_list)\n",
    "sunburst = Sunburst(init_opts=opts.InitOpts(width=\"1000px\", height=\"600px\"))\n",
    "sunburst.add(series_name=\"\", data_pair=data, radius=[0, \"90%\"],highlight_policy=\"ancestor\",sort_=\"null\",levels=[\n",
    "            {},\n",
    "            {\n",
    "                \"r0\": \"15%\",\n",
    "                \"r\": \"35%\",\n",
    "                \"itemStyle\": {\"borderWidth\": 2},\n",
    "                \"label\": {\"rotate\": \"tangential\"},\n",
    "            },\n",
    "            {\"r0\": \"35%\", \"r\": \"70%\", \"label\": {\"align\": \"right\"}},\n",
    "            {\n",
    "                \"r0\": \"70%\",\n",
    "                \"r\": \"72%\",\n",
    "                \"label\": {\"position\": \"outside\", \"padding\": 3, \"silent\": False},\n",
    "                \"itemStyle\": {\"borderWidth\": 3},\n",
    "            },\n",
    "        ],).set_global_opts(title_opts=opts.TitleOpts(title=\"Sunburst-基本示例\")).set_series_opts(label_opts=opts.LabelOpts(formatter=\"{b}\"))\n",
    "sunburst.render_notebook()"
   ]
  }
 ]
}