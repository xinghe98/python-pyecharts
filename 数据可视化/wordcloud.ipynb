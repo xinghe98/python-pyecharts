{
 "metadata": {
  "language_info": {
   "codemirror_mode": {
    "name": "ipython",
    "version": 3
   },
   "file_extension": ".py",
   "mimetype": "text/x-python",
   "name": "python",
   "nbconvert_exporter": "python",
   "pygments_lexer": "ipython3",
   "version": "3.8.5-final"
  },
  "orig_nbformat": 2,
  "kernelspec": {
   "name": "python_defaultSpec_1600169922520",
   "display_name": "Python 3.8.5 32-bit"
  }
 },
 "nbformat": 4,
 "nbformat_minor": 2,
 "cells": [
  {
   "cell_type": "code",
   "execution_count": 29,
   "metadata": {},
   "outputs": [],
   "source": [
    "import jieba\n",
    "import pandas as pd\n",
    "df = pd.read_csv('./heat.csv')\n",
    "df.dropna(axis = 0, subset = ['昵称'],inplace=True)\n",
    "str_list = df[\"昵称\"].tolist()"
   ]
  },
  {
   "cell_type": "code",
   "execution_count": 31,
   "metadata": {
    "tags": []
   },
   "outputs": [
    {
     "output_type": "stream",
     "name": "stdout",
     "text": "奥雷, 里亚诺\n奥雷, 里亚诺\n十画, 九生\n深, 互动, Mark\nA,  , monologue, .\n奥雷, 里亚诺\n奥雷, 里亚诺\n十画, 九生\n深, 互动, Mark\nA,  , monologue, .\n奥雷, 里亚诺\n奥雷, 里亚诺\n十画, 九生\n深, 互动, Mark\nA,  , monologue, .\n奥雷, 里亚诺\n奥雷, 里亚诺\n十画, 九生\n深, 互动, Mark\nA,  , monologue, .\n奥雷, 里亚诺\n奥雷, 里亚诺\n十画, 九生\n深, 互动, Mark\nA,  , monologue, .\n奥雷, 里亚诺\n奥雷, 里亚诺\n十画, 九生\n深, 互动, Mark\nA,  , monologue, .\n奥雷, 里亚诺\n奥雷, 里亚诺\n十画, 九生\n深, 互动, Mark\nA,  , monologue, .\n奥雷, 里亚诺\n奥雷, 里亚诺\n十画, 九生\n深, 互动, Mark\nA,  , monologue, .\n奥雷, 里亚诺\n奥雷, 里亚诺\n十画, 九生\n深, 互动, Mark\nA,  , monologue, .\n奥雷, 里亚诺\n奥雷, 里亚诺\n十画, 九生\n深, 互动, Mark\nA,  , monologue, .\n奥雷, 里亚诺\n奥雷, 里亚诺\n十画, 九生\n深, 互动, Mark\nA,  , monologue, .\n奥雷, 里亚诺\n奥雷, 里亚诺\n十画, 九生\n深, 互动, Mark\nA,  , monologue, .\n奥雷, 里亚诺\n奥雷, 里亚诺\n十画, 九生\n深, 互动, Mark\nA,  , monologue, .\n奥雷, 里亚诺\n奥雷, 里亚诺\n十画, 九生\n深, 互动, Mark\nA,  , monologue, .\n奥雷, 里亚诺\n奥雷, 里亚诺\n十画, 九生\n深, 互动, Mark\nA,  , monologue, .\n奥雷, 里亚诺\n奥雷, 里亚诺\n十画, 九生\n深, 互动, Mark\nA,  , monologue, .\n奥雷, 里亚诺\n奥雷, 里亚诺\n十画, 九生\n深, 互动, Mark\nA,  , monologue, .\n奥雷, 里亚诺\n奥雷, 里亚诺\n十画, 九生\n深, 互动, Mark\nA,  , monologue, .\n奥雷, 里亚诺\n奥雷, 里亚诺\n十画, 九生\n深, 互动, Mark\nA,  , monologue, .\n奥雷, 里亚诺\n奥雷, 里亚诺\n十画, 九生\n深, 互动, Mark\nA,  , monologue, .\n奥雷, 里亚诺\n奥雷, 里亚诺\n十画, 九生\n深, 互动, Mark\nA,  , monologue, .\n"
    }
   ],
   "source": [
    "for str in str_list:\n",
    "    seg_list = jieba.cut(str,cut_all=False) # 使用paddle模式\n",
    "    print(\", \".join(seg_list))"
   ]
  }
 ]
}