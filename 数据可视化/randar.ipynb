{
 "metadata": {
  "language_info": {
   "codemirror_mode": {
    "name": "ipython",
    "version": 3
   },
   "file_extension": ".py",
   "mimetype": "text/x-python",
   "name": "python",
   "nbconvert_exporter": "python",
   "pygments_lexer": "ipython3",
   "version": "3.8.5-final"
  },
  "orig_nbformat": 2,
  "kernelspec": {
   "name": "python_defaultSpec_1600244522584",
   "display_name": "Python 3.8.5 32-bit"
  }
 },
 "nbformat": 4,
 "nbformat_minor": 2,
 "cells": [
  {
   "cell_type": "code",
   "execution_count": 1,
   "metadata": {
    "tags": []
   },
   "outputs": [
    {
     "output_type": "stream",
     "name": "stdout",
     "text": "['今日头条/抖音', '公众号', '其他', '朋友圈', '知乎'] [[9, 9, 8, 10, 4]]\n"
    }
   ],
   "source": [
    "import pandas as pd\n",
    "df = pd.read_csv('./randar.csv')\n",
    "data = df.groupby('渠道').size()\n",
    "id = data.index.tolist()\n",
    "value = data.tolist()\n",
    "print(id,[value])"
   ]
  },
  {
   "cell_type": "code",
   "execution_count": 4,
   "metadata": {
    "tags": []
   },
   "outputs": [
    {
     "output_type": "stream",
     "name": "stdout",
     "text": "今日头条/抖音 9\n公众号 9\n其他 8\n朋友圈 10\n知乎 4\n"
    },
    {
     "output_type": "execute_result",
     "data": {
      "text/plain": "<pyecharts.render.display.HTML at 0xd348e50>",
      "text/html": "\n<script>\n    require.config({\n        paths: {\n            'echarts':'https://assets.pyecharts.org/assets/echarts.min'\n        }\n    });\n</script>\n\n        <div id=\"b13623ccc8564f38817018f062842859\" style=\"width:900px; height:500px;\"></div>\n\n<script>\n        require(['echarts'], function(echarts) {\n                var chart_b13623ccc8564f38817018f062842859 = echarts.init(\n                    document.getElementById('b13623ccc8564f38817018f062842859'), 'white', {renderer: 'canvas'});\n                var option_b13623ccc8564f38817018f062842859 = {\n    \"animation\": true,\n    \"animationThreshold\": 2000,\n    \"animationDuration\": 1000,\n    \"animationEasing\": \"cubicOut\",\n    \"animationDelay\": 0,\n    \"animationDurationUpdate\": 300,\n    \"animationEasingUpdate\": \"cubicOut\",\n    \"animationDelayUpdate\": 0,\n    \"color\": [\n        \"#c23531\",\n        \"#2f4554\",\n        \"#61a0a8\",\n        \"#d48265\",\n        \"#749f83\",\n        \"#ca8622\",\n        \"#bda29a\",\n        \"#6e7074\",\n        \"#546570\",\n        \"#c4ccd3\",\n        \"#f05b72\",\n        \"#ef5b9c\",\n        \"#f47920\",\n        \"#905a3d\",\n        \"#fab27b\",\n        \"#2a5caa\",\n        \"#444693\",\n        \"#726930\",\n        \"#b2d235\",\n        \"#6d8346\",\n        \"#ac6767\",\n        \"#1d953f\",\n        \"#6950a1\",\n        \"#918597\"\n    ],\n    \"series\": [\n        {\n            \"type\": \"radar\",\n            \"data\": [\n                [\n                    9,\n                    9,\n                    8,\n                    10,\n                    4\n                ]\n            ],\n            \"label\": {\n                \"show\": false,\n                \"position\": \"top\",\n                \"margin\": 8\n            },\n            \"itemStyle\": {\n                \"normal\": {}\n            },\n            \"lineStyle\": {\n                \"show\": true,\n                \"width\": 1,\n                \"opacity\": 1,\n                \"curveness\": 0,\n                \"type\": \"solid\",\n                \"color\": \"green\"\n            },\n            \"areaStyle\": {\n                \"opacity\": 0\n            },\n            \"rippleEffect\": {\n                \"show\": true,\n                \"brushType\": \"stroke\",\n                \"scale\": 2.5,\n                \"period\": 4\n            }\n        }\n    ],\n    \"legend\": [\n        {\n            \"data\": [\n                \"\"\n            ],\n            \"selected\": {\n                \"\": true\n            },\n            \"show\": true,\n            \"padding\": 5,\n            \"itemGap\": 10,\n            \"itemWidth\": 25,\n            \"itemHeight\": 14\n        }\n    ],\n    \"tooltip\": {\n        \"show\": true,\n        \"trigger\": \"item\",\n        \"triggerOn\": \"mousemove|click\",\n        \"axisPointer\": {\n            \"type\": \"line\"\n        },\n        \"textStyle\": {\n            \"fontSize\": 14\n        },\n        \"borderWidth\": 0\n    },\n    \"radar\": {\n        \"indicator\": [\n            {\n                \"name\": \"\\u4eca\\u65e5\\u5934\\u6761/\\u6296\\u97f3\",\n                \"max\": \"10\"\n            },\n            {\n                \"name\": \"\\u516c\\u4f17\\u53f7\",\n                \"max\": \"10\"\n            },\n            {\n                \"name\": \"\\u5176\\u4ed6\",\n                \"max\": \"10\"\n            },\n            {\n                \"name\": \"\\u670b\\u53cb\\u5708\",\n                \"max\": \"10\"\n            },\n            {\n                \"name\": \"\\u77e5\\u4e4e\",\n                \"max\": \"10\"\n            }\n        ],\n        \"name\": {\n            \"textStyle\": {}\n        },\n        \"splitLine\": {\n            \"show\": true,\n            \"lineStyle\": {\n                \"show\": true,\n                \"width\": 1,\n                \"opacity\": 1,\n                \"curveness\": 0,\n                \"type\": \"solid\"\n            }\n        },\n        \"splitArea\": {\n            \"is_show\": true\n        },\n        \"axisLine\": {\n            \"show\": true,\n            \"onZero\": true,\n            \"onZeroAxisIndex\": 0\n        }\n    },\n    \"title\": [\n        {\n            \"text\": \"\\u5404\\u6e20\\u9053\\u6765\\u6e90\",\n            \"padding\": 5,\n            \"itemGap\": 10\n        }\n    ]\n};\n                chart_b13623ccc8564f38817018f062842859.setOption(option_b13623ccc8564f38817018f062842859);\n        });\n    </script>\n"
     },
     "metadata": {},
     "execution_count": 4
    }
   ],
   "source": [
    "import pyecharts.options as opts\n",
    "from pyecharts.charts import Radar\n",
    "v1 = [value]\n",
    "randar = Radar()\n",
    "schem=[]\n",
    "for i,j in zip(id,value):\n",
    "    print(i,j)\n",
    "    a = dict(name=\"{}\".format(i),max=\"{}\".format(10))# max_的值根据实际情况定义\n",
    "    schem.append(a)\n",
    "randar.add_schema(schema=schem,splitarea_opt=dict(is_show=True,)).add(\"\",\n",
    "        data=v1,\n",
    "        linestyle_opts=opts.LineStyleOpts(color=\"green\"),\n",
    "    ).set_series_opts(label_opts=opts.LabelOpts(is_show=False)).set_global_opts(\n",
    "        title_opts=opts.TitleOpts(title=\"各渠道来源\"), legend_opts=opts.LegendOpts()\n",
    "    ).render_notebook()"
   ]
  }
 ]
}